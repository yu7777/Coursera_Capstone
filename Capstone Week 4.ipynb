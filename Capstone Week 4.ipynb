{
 "cells": [
  {
   "cell_type": "markdown",
   "metadata": {},
   "source": [
    "# Capstone Project - Chinese Restaurants in Sydney (Week 4)\n",
    "### Applied Data Science Capstone by IBM/Coursera\n",
    "<img src = \"https://upload.wikimedia.org/wikipedia/commons/5/51/Sydney_skyline_from_the_north_August_2016_%2829009142591%29.jpg\" >"
   ]
  },
  {
   "cell_type": "markdown",
   "metadata": {},
   "source": [
    "## Table of contents\n",
    "* [Introduction: Business Problem](#introduction)\n",
    "* [Data](#data)"
   ]
  },
  {
   "cell_type": "markdown",
   "metadata": {},
   "source": [
    "\n",
    "## Introduction: Business Problem <a name=\"introduction\"></a>"
   ]
  },
  {
   "cell_type": "markdown",
   "metadata": {},
   "source": [
    "Sydney is a gateway to Australia for many international visitors. It has hosted over 2.8 million international visitors in 2013, or nearly half of all international visits to Australia. These visitors spent 59 million nights in the city and a total of $5.9 billion. (Wikipedia)\n",
    "\n",
    "In this project we will try to analyse the distribution of Chinese restaurants in Sydney and try to find a possible optimal location for a new Chinese restaurant. \n",
    "\n",
    "This report is expected to provide information on **Chinese restaurant** in **Sydney**, Australia.\n",
    "\n",
    "Sydney is the largest and the most populous city of Australia, and also the capital of NewSouth Wales. The population of today's Sydney is approaching to 5 million people. Since there are lots of Chinese restaurants in Sydney, we will only focus on the area with postal code from 1000 to 2249 in Sydney. We will use Foursquare to detect **Chinese restaurant** and its **locations**.\n"
   ]
  },
  {
   "cell_type": "markdown",
   "metadata": {},
   "source": [
    "## Data <a name=\"data\"></a>"
   ]
  },
  {
   "cell_type": "markdown",
   "metadata": {},
   "source": [
    "Based on definition of our problem, factors that will influence our decission are:\n",
    "* number of existing Chinese restaurants in the neighborhood\n",
    "* distance to Chinese restaurants in the neighborhood\n",
    "* distribution of Chinese restaurants in Sydney\n",
    "\n",
    "We downloaded Australian postcodes from Github. https://github.com/matthewproctor/australianpostcodesWe  This csv file contains \n",
    "\n",
    "Fieldname Description\n",
    "\n",
    "postcode   The postcode in numerical format - 0000 to 9999\n",
    "\n",
    "locality   The locality of the postcode - typically the city/suburb or postal distribution centre\n",
    "\n",
    "state   The Australian state in which the locality is situated\n",
    "\n",
    "long   The longitude of the locality - defaults to 0 when not available\n",
    "\n",
    "lat   The latitude of the locality - defaults to 0 when not available\n",
    "\n",
    "dc1   The Australia Post distribution Centre servicing this postcode - defaults to blank when not available\n",
    "\n",
    "type1   The of locality, such as a delivery area, post office or a \"Large Volume Recipient\" such as a GPO, defaults to blank when not available\n",
    "\n",
    "status   A note indicating whether the data is new, removed or updated - new column Nov 2018\n",
    "decided to use regularly spaced grid of locations, centered around city center, to define our neighborhoods.\n",
    "\n",
    "We will only focus on postcodes from 1000 to 2249\n",
    "\n",
    "Sydney, NSW, Australia\n",
    "Latitude and longitude coordinates are: -33.865143, 151.209900.\n",
    "\n",
    "Following data sources will be needed to extract/generate the required information:\n",
    "* longitude and latitude of candidate areas will be used to get Chinese restaurant list from Foursquare\n",
    "* number of restaurants and their type and location in every neighborhood will be obtained using **Foursquare API**"
   ]
  },
  {
   "cell_type": "code",
   "execution_count": null,
   "metadata": {},
   "outputs": [],
   "source": []
  }
 ],
 "metadata": {
  "kernelspec": {
   "display_name": "Python 3",
   "language": "python",
   "name": "python3"
  },
  "language_info": {
   "codemirror_mode": {
    "name": "ipython",
    "version": 3
   },
   "file_extension": ".py",
   "mimetype": "text/x-python",
   "name": "python",
   "nbconvert_exporter": "python",
   "pygments_lexer": "ipython3",
   "version": "3.7.3"
  }
 },
 "nbformat": 4,
 "nbformat_minor": 2
}
